{
 "cells": [
  {
   "cell_type": "markdown",
   "metadata": {},
   "source": [
    "# Outlook Email Attachment Auto Download\n",
    "\n",
    "## Uses of this script:\n",
    "If many emails are automatically sent from a data source at a regular interval, this script will download the most recent dataset in your inbox to ensure that the most recent is always in your folder.  \n",
    "(*see attachmentkeeprunning.sh for the bash script that runs this script every two hours*)\n",
    "\n",
    "#### Workflow:\n",
    "1. Import packages \n",
    "2. Establish communication between Python and Outlook\n",
    "3. list the file extensions of interest (.xls, .las)\n",
    "4. specify a unique name that will be in the email subject each time\n",
    "5. script will search in unread messages to see if the unique name is in the subject, search in those emails if the extensions are present and download those files "
   ]
  },
  {
   "cell_type": "code",
   "execution_count": 1,
   "metadata": {},
   "outputs": [],
   "source": [
    "import pandas as pd\n",
    "import datetime\n",
    "import win32com.client\n",
    "import os"
   ]
  },
  {
   "cell_type": "code",
   "execution_count": 2,
   "metadata": {
    "scrolled": true
   },
   "outputs": [
    {
     "name": "stdout",
     "output_type": "stream",
     "text": [
      "FW: H&P 616 Camellia Fed Com 26-36-21 121H ST1 Survey @ SD: 19969 / INC: 91.51 / AZM: 359.95 / TVD: 12,001.17 /  VS: 7,534.18 / DLS: 1.63 / Temp: 199.1 / Above 0.61 /Left: -14.53\n",
      "Camellia Fed Com 26-36-21 121H ST1 Surveys.xls\n",
      "Camellia Fed Com 26-36-21 121H ST1_LAS2.0.las\n",
      "FW: AMEREDEV- Camellia Fed Com 26-36-21 121H_ST01 - PM Report, EMAIL 1 OF 2\n"
     ]
    }
   ],
   "source": [
    "application = win32com.client.Dispatch('Outlook.Application').GetNamespace(\"MAPI\") # Open Outlook\n",
    "inbox_folder = application.GetDefaultFolder(6) # 6 refers to inbox in Outlook\n",
    "\n",
    "messages = inbox_folder.Items\n",
    "extensions = ['.xls', '.las']\n",
    "for message in messages:\n",
    "    if message.UnRead == True:\n",
    "        if 'unique string in subject' in message.Subject:\n",
    "            print(message.Subject)\n",
    "            \n",
    "            for attachment in message.Attachments:\n",
    "                if not attachment.FileName.endswith(tuple(extensions)): # only grab the attachments with the specific extensions\n",
    "                    continue\n",
    "\n",
    "                print(attachment.FileName) # print out the file names to be sure we know what is downloaded\n",
    "                attachment.SaveAsFile('path\\\\to\\\\file\\\\' + attachment.FileName) # save"
   ]
  }
 ],
 "metadata": {
  "kernelspec": {
   "display_name": "Python (geo_env)",
   "language": "python",
   "name": "geo_env"
  },
  "language_info": {
   "codemirror_mode": {
    "name": "ipython",
    "version": 3
   },
   "file_extension": ".py",
   "mimetype": "text/x-python",
   "name": "python",
   "nbconvert_exporter": "python",
   "pygments_lexer": "ipython3",
   "version": "3.7.3"
  }
 },
 "nbformat": 4,
 "nbformat_minor": 2
}
