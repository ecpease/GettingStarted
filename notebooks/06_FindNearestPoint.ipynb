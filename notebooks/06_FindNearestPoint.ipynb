{
 "cells": [
  {
   "cell_type": "markdown",
   "metadata": {},
   "source": [
    "# Find the nearest point to another set of points\n",
    "\n",
    "#### Workflow\n",
    "1. Import packages\n",
    "2. Load shapefile1 (the original points) and shapefile2 (the points whose values to bring into shapefile1)\n",
    "3. Run function ckdnearest, given shp1, shp2, and the column from shp2 that is of interest\n",
    "4. Include the bcol into shp1 by copying it from the new df (nearest)\n",
    "5. (Optional) convert the distanc to feet from meters"
   ]
  },
  {
   "cell_type": "code",
   "execution_count": null,
   "metadata": {},
   "outputs": [],
   "source": [
    "import numpy as np\n",
    "import pandas as pd\n",
    "import geopandas as gpd\n",
    "from scipy.interpolate import griddata\n",
    "from shapely.ops import nearest_points\n",
    "from scipy.spatial import cKDTree  \n",
    "from shapely.geometry import Point, LineString\n",
    "import shapely.geometry as geom"
   ]
  },
  {
   "cell_type": "code",
   "execution_count": null,
   "metadata": {},
   "outputs": [],
   "source": [
    "shp1 = gpd.read_file(\"shp1.shp\") # shp 1\n",
    "shp2 = gpd.read_file(\"shp2.shp\") # shp 2"
   ]
  },
  {
   "cell_type": "code",
   "execution_count": null,
   "metadata": {},
   "outputs": [],
   "source": [
    "def ckdnearest(gdA, gdB, bcol):   \n",
    "    nA = np.array(list(zip(gdA.geometry.x, gdA.geometry.y)) )\n",
    "    nB = np.array(list(zip(gdB.geometry.x, gdB.geometry.y)) )\n",
    "    btree = cKDTree(nB)\n",
    "    dist, idx = btree.query(nA)\n",
    "    df = pd.DataFrame.from_dict({'Dist(meters)': dist.astype(int),\n",
    "                             'Z' : gdB.loc[idx, bcol].values })\n",
    "    return df"
   ]
  },
  {
   "cell_type": "code",
   "execution_count": null,
   "metadata": {},
   "outputs": [],
   "source": [
    "nearest = ckdnearest(gdA=shp1, gdB=shp2, bcol='Z')"
   ]
  },
  {
   "cell_type": "code",
   "execution_count": null,
   "metadata": {},
   "outputs": [],
   "source": [
    "shp1[\"Z\"] = nearest[\"Z\"]\n",
    "shp1[\"Dist(ft)\"] = nearest[\"Dist(meters)\"]*3.28084 # convert to feet"
   ]
  },
  {
   "cell_type": "code",
   "execution_count": null,
   "metadata": {},
   "outputs": [],
   "source": [
    "shp1.to_file(\"path\\\\to\\\\file.shp\")"
   ]
  }
 ],
 "metadata": {
  "kernelspec": {
   "display_name": "Python (geo_env)",
   "language": "python",
   "name": "geo_env"
  },
  "language_info": {
   "codemirror_mode": {
    "name": "ipython",
    "version": 3
   },
   "file_extension": ".py",
   "mimetype": "text/x-python",
   "name": "python",
   "nbconvert_exporter": "python",
   "pygments_lexer": "ipython3",
   "version": "3.7.3"
  }
 },
 "nbformat": 4,
 "nbformat_minor": 2
}
