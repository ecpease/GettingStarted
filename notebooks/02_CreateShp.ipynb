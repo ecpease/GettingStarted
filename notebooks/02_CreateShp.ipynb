{
 "cells": [
  {
   "cell_type": "markdown",
   "metadata": {},
   "source": [
    "#  Create a Shapefile from Coordinates in Spreadsheet (Lat Long)"
   ]
  },
  {
   "cell_type": "code",
   "execution_count": 1,
   "metadata": {},
   "outputs": [],
   "source": [
    "# Import Packages\n",
    "import pandas as pd\n",
    "import geopandas as gpd\n",
    "from shapely.geometry import Point\n",
    "import os"
   ]
  },
  {
   "cell_type": "code",
   "execution_count": 2,
   "metadata": {},
   "outputs": [
    {
     "data": {
      "text/html": [
       "<div>\n",
       "<style scoped>\n",
       "    .dataframe tbody tr th:only-of-type {\n",
       "        vertical-align: middle;\n",
       "    }\n",
       "\n",
       "    .dataframe tbody tr th {\n",
       "        vertical-align: top;\n",
       "    }\n",
       "\n",
       "    .dataframe thead th {\n",
       "        text-align: right;\n",
       "    }\n",
       "</style>\n",
       "<table border=\"1\" class=\"dataframe\">\n",
       "  <thead>\n",
       "    <tr style=\"text-align: right;\">\n",
       "      <th></th>\n",
       "      <th>DISTRICT</th>\n",
       "      <th>COUNTY</th>\n",
       "      <th>AVG CONCEN</th>\n",
       "      <th>Field</th>\n",
       "      <th>FIELD</th>\n",
       "      <th>Formation</th>\n",
       "      <th>FORMATION</th>\n",
       "      <th>FORM_ID</th>\n",
       "      <th>FORM_AGE</th>\n",
       "      <th>ABRV</th>\n",
       "      <th>LONG_NAME</th>\n",
       "      <th>Longitude</th>\n",
       "      <th>Latitude</th>\n",
       "    </tr>\n",
       "  </thead>\n",
       "  <tbody>\n",
       "    <tr>\n",
       "      <th>0</th>\n",
       "      <td>7C</td>\n",
       "      <td>CROCKETT</td>\n",
       "      <td>96000</td>\n",
       "      <td>MIDWAYLANE</td>\n",
       "      <td>MIDWAY LANE</td>\n",
       "      <td>1050SD.</td>\n",
       "      <td>NaN</td>\n",
       "      <td>NaN</td>\n",
       "      <td>NaN</td>\n",
       "      <td>NaN</td>\n",
       "      <td>NaN</td>\n",
       "      <td>-101.300109</td>\n",
       "      <td>30.900531</td>\n",
       "    </tr>\n",
       "    <tr>\n",
       "      <th>1</th>\n",
       "      <td>7C</td>\n",
       "      <td>CROCKETT</td>\n",
       "      <td>96000</td>\n",
       "      <td>MIDWAYLANE</td>\n",
       "      <td>MIDWAY LANE</td>\n",
       "      <td>1050SD.</td>\n",
       "      <td>NaN</td>\n",
       "      <td>NaN</td>\n",
       "      <td>NaN</td>\n",
       "      <td>NaN</td>\n",
       "      <td>NaN</td>\n",
       "      <td>-101.300109</td>\n",
       "      <td>30.900531</td>\n",
       "    </tr>\n",
       "    <tr>\n",
       "      <th>2</th>\n",
       "      <td>7C</td>\n",
       "      <td>CROCKETT</td>\n",
       "      <td>96000</td>\n",
       "      <td>MIDWAYLANE</td>\n",
       "      <td>MIDWAY LANE</td>\n",
       "      <td>1050SD.</td>\n",
       "      <td>NaN</td>\n",
       "      <td>NaN</td>\n",
       "      <td>NaN</td>\n",
       "      <td>NaN</td>\n",
       "      <td>NaN</td>\n",
       "      <td>-101.300109</td>\n",
       "      <td>30.900531</td>\n",
       "    </tr>\n",
       "    <tr>\n",
       "      <th>3</th>\n",
       "      <td>7C</td>\n",
       "      <td>CROCKETT</td>\n",
       "      <td>96000</td>\n",
       "      <td>MIDWAYLANE</td>\n",
       "      <td>MIDWAY LANE</td>\n",
       "      <td>1050SD.</td>\n",
       "      <td>NaN</td>\n",
       "      <td>NaN</td>\n",
       "      <td>NaN</td>\n",
       "      <td>NaN</td>\n",
       "      <td>NaN</td>\n",
       "      <td>-101.300109</td>\n",
       "      <td>30.900531</td>\n",
       "    </tr>\n",
       "    <tr>\n",
       "      <th>4</th>\n",
       "      <td>7C</td>\n",
       "      <td>CROCKETT</td>\n",
       "      <td>96000</td>\n",
       "      <td>MIDWAYLANE</td>\n",
       "      <td>MIDWAY LANE</td>\n",
       "      <td>1050SD.</td>\n",
       "      <td>NaN</td>\n",
       "      <td>NaN</td>\n",
       "      <td>NaN</td>\n",
       "      <td>NaN</td>\n",
       "      <td>NaN</td>\n",
       "      <td>-101.300109</td>\n",
       "      <td>30.900531</td>\n",
       "    </tr>\n",
       "  </tbody>\n",
       "</table>\n",
       "</div>"
      ],
      "text/plain": [
       "  DISTRICT    COUNTY  AVG CONCEN       Field        FIELD Formation FORMATION  \\\n",
       "0       7C  CROCKETT       96000  MIDWAYLANE  MIDWAY LANE   1050SD.       NaN   \n",
       "1       7C  CROCKETT       96000  MIDWAYLANE  MIDWAY LANE   1050SD.       NaN   \n",
       "2       7C  CROCKETT       96000  MIDWAYLANE  MIDWAY LANE   1050SD.       NaN   \n",
       "3       7C  CROCKETT       96000  MIDWAYLANE  MIDWAY LANE   1050SD.       NaN   \n",
       "4       7C  CROCKETT       96000  MIDWAYLANE  MIDWAY LANE   1050SD.       NaN   \n",
       "\n",
       "  FORM_ID  FORM_AGE ABRV LONG_NAME   Longitude   Latitude  \n",
       "0     NaN       NaN  NaN       NaN -101.300109  30.900531  \n",
       "1     NaN       NaN  NaN       NaN -101.300109  30.900531  \n",
       "2     NaN       NaN  NaN       NaN -101.300109  30.900531  \n",
       "3     NaN       NaN  NaN       NaN -101.300109  30.900531  \n",
       "4     NaN       NaN  NaN       NaN -101.300109  30.900531  "
      ]
     },
     "execution_count": 2,
     "metadata": {},
     "output_type": "execute_result"
    }
   ],
   "source": [
    "# Read csv file\n",
    "df = pd.read_csv(os.path.join(\"..\", \"data\", \"H2S.csv\"))\n",
    "df.head()"
   ]
  },
  {
   "cell_type": "code",
   "execution_count": 3,
   "metadata": {},
   "outputs": [
    {
     "data": {
      "text/plain": [
       "18350"
      ]
     },
     "execution_count": 3,
     "metadata": {},
     "output_type": "execute_result"
    }
   ],
   "source": [
    "len(df) "
   ]
  },
  {
   "cell_type": "code",
   "execution_count": 4,
   "metadata": {},
   "outputs": [],
   "source": [
    "# Drop any rows that do not have both a latitude and longitude value\n",
    "df.dropna(subset=['Longitude', 'Latitude'], inplace=True)"
   ]
  },
  {
   "cell_type": "code",
   "execution_count": 5,
   "metadata": {},
   "outputs": [
    {
     "data": {
      "text/plain": [
       "18350"
      ]
     },
     "execution_count": 5,
     "metadata": {},
     "output_type": "execute_result"
    }
   ],
   "source": [
    "len(df) # check if any rows were dropped"
   ]
  },
  {
   "cell_type": "code",
   "execution_count": 6,
   "metadata": {},
   "outputs": [],
   "source": [
    "# Create the geometry column that is required in shapefiles to recognize coordinates in space\n",
    "df['geometry'] = df.apply(lambda xy: Point(xy['Longitude'], xy['Latitude']), axis=1)"
   ]
  },
  {
   "cell_type": "code",
   "execution_count": 7,
   "metadata": {},
   "outputs": [],
   "source": [
    "# Assign the columns you wish to export (can exclude this if you are happy with everything in the dataframe)\n",
    "df = df[[\"DISTRICT\", \"COUNTY\", \"AVG CONCEN\", \"Field\", \"FIELD\", \"Formation\", \"FORMATION\", \n",
    "         \"FORM_ID\", \"FORM_AGE\", \"ABRV\", \"LONG_NAME\", \"Longitude\", \"Latitude\", \"geometry\"]]"
   ]
  },
  {
   "cell_type": "code",
   "execution_count": 8,
   "metadata": {},
   "outputs": [],
   "source": [
    "# Assign the proj4 string aka the projection you wnat to assign to your shapefile\n",
    "proj4 = '+proj=longlat +ellps=WGS84 +datum=WGS84 +no_defs'"
   ]
  },
  {
   "cell_type": "code",
   "execution_count": 9,
   "metadata": {},
   "outputs": [],
   "source": [
    "# Create the \"geodataframe\", which is the same as a dataframe but has a spatial component\n",
    "gdf = gpd.GeoDataFrame(df, geometry='geometry' ,crs=proj4)"
   ]
  },
  {
   "cell_type": "code",
   "execution_count": 10,
   "metadata": {},
   "outputs": [
    {
     "data": {
      "text/html": [
       "<div>\n",
       "<style scoped>\n",
       "    .dataframe tbody tr th:only-of-type {\n",
       "        vertical-align: middle;\n",
       "    }\n",
       "\n",
       "    .dataframe tbody tr th {\n",
       "        vertical-align: top;\n",
       "    }\n",
       "\n",
       "    .dataframe thead th {\n",
       "        text-align: right;\n",
       "    }\n",
       "</style>\n",
       "<table border=\"1\" class=\"dataframe\">\n",
       "  <thead>\n",
       "    <tr style=\"text-align: right;\">\n",
       "      <th></th>\n",
       "      <th>DISTRICT</th>\n",
       "      <th>COUNTY</th>\n",
       "      <th>AVG CONCEN</th>\n",
       "      <th>Field</th>\n",
       "      <th>FIELD</th>\n",
       "      <th>Formation</th>\n",
       "      <th>FORMATION</th>\n",
       "      <th>FORM_ID</th>\n",
       "      <th>FORM_AGE</th>\n",
       "      <th>ABRV</th>\n",
       "      <th>LONG_NAME</th>\n",
       "      <th>Longitude</th>\n",
       "      <th>Latitude</th>\n",
       "      <th>geometry</th>\n",
       "    </tr>\n",
       "  </thead>\n",
       "  <tbody>\n",
       "    <tr>\n",
       "      <th>0</th>\n",
       "      <td>7C</td>\n",
       "      <td>CROCKETT</td>\n",
       "      <td>96000</td>\n",
       "      <td>MIDWAYLANE</td>\n",
       "      <td>MIDWAY LANE</td>\n",
       "      <td>1050SD.</td>\n",
       "      <td>NaN</td>\n",
       "      <td>NaN</td>\n",
       "      <td>NaN</td>\n",
       "      <td>NaN</td>\n",
       "      <td>NaN</td>\n",
       "      <td>-101.300109</td>\n",
       "      <td>30.900531</td>\n",
       "      <td>POINT (-101.300109266193 30.90053143071931)</td>\n",
       "    </tr>\n",
       "    <tr>\n",
       "      <th>1</th>\n",
       "      <td>7C</td>\n",
       "      <td>CROCKETT</td>\n",
       "      <td>96000</td>\n",
       "      <td>MIDWAYLANE</td>\n",
       "      <td>MIDWAY LANE</td>\n",
       "      <td>1050SD.</td>\n",
       "      <td>NaN</td>\n",
       "      <td>NaN</td>\n",
       "      <td>NaN</td>\n",
       "      <td>NaN</td>\n",
       "      <td>NaN</td>\n",
       "      <td>-101.300109</td>\n",
       "      <td>30.900531</td>\n",
       "      <td>POINT (-101.300109266193 30.90053143071931)</td>\n",
       "    </tr>\n",
       "    <tr>\n",
       "      <th>2</th>\n",
       "      <td>7C</td>\n",
       "      <td>CROCKETT</td>\n",
       "      <td>96000</td>\n",
       "      <td>MIDWAYLANE</td>\n",
       "      <td>MIDWAY LANE</td>\n",
       "      <td>1050SD.</td>\n",
       "      <td>NaN</td>\n",
       "      <td>NaN</td>\n",
       "      <td>NaN</td>\n",
       "      <td>NaN</td>\n",
       "      <td>NaN</td>\n",
       "      <td>-101.300109</td>\n",
       "      <td>30.900531</td>\n",
       "      <td>POINT (-101.300109266193 30.90053143071931)</td>\n",
       "    </tr>\n",
       "    <tr>\n",
       "      <th>3</th>\n",
       "      <td>7C</td>\n",
       "      <td>CROCKETT</td>\n",
       "      <td>96000</td>\n",
       "      <td>MIDWAYLANE</td>\n",
       "      <td>MIDWAY LANE</td>\n",
       "      <td>1050SD.</td>\n",
       "      <td>NaN</td>\n",
       "      <td>NaN</td>\n",
       "      <td>NaN</td>\n",
       "      <td>NaN</td>\n",
       "      <td>NaN</td>\n",
       "      <td>-101.300109</td>\n",
       "      <td>30.900531</td>\n",
       "      <td>POINT (-101.300109266193 30.90053143071931)</td>\n",
       "    </tr>\n",
       "    <tr>\n",
       "      <th>4</th>\n",
       "      <td>7C</td>\n",
       "      <td>CROCKETT</td>\n",
       "      <td>96000</td>\n",
       "      <td>MIDWAYLANE</td>\n",
       "      <td>MIDWAY LANE</td>\n",
       "      <td>1050SD.</td>\n",
       "      <td>NaN</td>\n",
       "      <td>NaN</td>\n",
       "      <td>NaN</td>\n",
       "      <td>NaN</td>\n",
       "      <td>NaN</td>\n",
       "      <td>-101.300109</td>\n",
       "      <td>30.900531</td>\n",
       "      <td>POINT (-101.300109266193 30.90053143071931)</td>\n",
       "    </tr>\n",
       "  </tbody>\n",
       "</table>\n",
       "</div>"
      ],
      "text/plain": [
       "  DISTRICT    COUNTY  AVG CONCEN       Field        FIELD Formation FORMATION  \\\n",
       "0       7C  CROCKETT       96000  MIDWAYLANE  MIDWAY LANE   1050SD.       NaN   \n",
       "1       7C  CROCKETT       96000  MIDWAYLANE  MIDWAY LANE   1050SD.       NaN   \n",
       "2       7C  CROCKETT       96000  MIDWAYLANE  MIDWAY LANE   1050SD.       NaN   \n",
       "3       7C  CROCKETT       96000  MIDWAYLANE  MIDWAY LANE   1050SD.       NaN   \n",
       "4       7C  CROCKETT       96000  MIDWAYLANE  MIDWAY LANE   1050SD.       NaN   \n",
       "\n",
       "  FORM_ID  FORM_AGE ABRV LONG_NAME   Longitude   Latitude  \\\n",
       "0     NaN       NaN  NaN       NaN -101.300109  30.900531   \n",
       "1     NaN       NaN  NaN       NaN -101.300109  30.900531   \n",
       "2     NaN       NaN  NaN       NaN -101.300109  30.900531   \n",
       "3     NaN       NaN  NaN       NaN -101.300109  30.900531   \n",
       "4     NaN       NaN  NaN       NaN -101.300109  30.900531   \n",
       "\n",
       "                                      geometry  \n",
       "0  POINT (-101.300109266193 30.90053143071931)  \n",
       "1  POINT (-101.300109266193 30.90053143071931)  \n",
       "2  POINT (-101.300109266193 30.90053143071931)  \n",
       "3  POINT (-101.300109266193 30.90053143071931)  \n",
       "4  POINT (-101.300109266193 30.90053143071931)  "
      ]
     },
     "execution_count": 10,
     "metadata": {},
     "output_type": "execute_result"
    }
   ],
   "source": [
    "gdf.head()"
   ]
  },
  {
   "cell_type": "code",
   "execution_count": 11,
   "metadata": {},
   "outputs": [],
   "source": [
    "# Check that it worked, quickly in a plot\n",
    "gdf.plot(); "
   ]
  },
  {
   "cell_type": "markdown",
   "metadata": {},
   "source": [
    "# Querying with Geopandas"
   ]
  },
  {
   "cell_type": "code",
   "execution_count": 12,
   "metadata": {},
   "outputs": [],
   "source": [
    "# Query your data to only grab district 8\n",
    "gdf_Dist8 = gdf[gdf[\"DISTRICT\"] == \"8\"]"
   ]
  },
  {
   "cell_type": "code",
   "execution_count": 13,
   "metadata": {},
   "outputs": [
    {
     "data": {
      "text/plain": [
       "12985"
      ]
     },
     "execution_count": 13,
     "metadata": {},
     "output_type": "execute_result"
    }
   ],
   "source": [
    "len(gdf_Dist8)"
   ]
  },
  {
   "cell_type": "code",
   "execution_count": 14,
   "metadata": {},
   "outputs": [
    {
     "data": {
      "image/png": "[encoded data removed]",
      "text/plain": [
       "<Figure size 432x288 with 1 Axes>"
      ]
     },
     "metadata": {
      "needs_background": "light"
     },
     "output_type": "display_data"
    }
   ],
   "source": [
    "gdf_Dist8.plot();"
   ]
  },
  {
   "cell_type": "code",
   "execution_count": 15,
   "metadata": {},
   "outputs": [],
   "source": [
    "# Query your data to only grab district 8\n",
    "gdf_ellen = gdf[gdf[\"FORMATION\"] == \"ELLENBURGER\"]"
   ]
  },
  {
   "cell_type": "code",
   "execution_count": 16,
   "metadata": {},
   "outputs": [
    {
     "data": {
      "text/plain": [
       "1507"
      ]
     },
     "execution_count": 16,
     "metadata": {},
     "output_type": "execute_result"
    }
   ],
   "source": [
    "len(gdf_ellen)"
   ]
  },
  {
   "cell_type": "code",
   "execution_count": 17,
   "metadata": {},
   "outputs": [
    {
     "data": {
      "image/png": "[encoded data removed]",
      "text/plain": [
       "<Figure size 432x288 with 1 Axes>"
      ]
     },
     "metadata": {
      "needs_background": "light"
     },
     "output_type": "display_data"
    }
   ],
   "source": [
    "gdf_ellen.plot();"
   ]
  },
  {
   "cell_type": "code",
   "execution_count": 18,
   "metadata": {},
   "outputs": [],
   "source": [
    "# Query for all Ellenburger formation points in District 8\n",
    "gdf_ellen_Dist8 = gdf[(gdf[\"FORMATION\"] == \"ELLENBURGER\") & (gdf[\"DISTRICT\"] ==\"8\")]"
   ]
  },
  {
   "cell_type": "code",
   "execution_count": 19,
   "metadata": {},
   "outputs": [
    {
     "data": {
      "text/plain": [
       "1128"
      ]
     },
     "execution_count": 19,
     "metadata": {},
     "output_type": "execute_result"
    }
   ],
   "source": [
    "len(gdf_ellen_Dist8)"
   ]
  },
  {
   "cell_type": "code",
   "execution_count": 20,
   "metadata": {},
   "outputs": [
    {
     "data": {
      "image/png": "[encoded data removed]",
      "text/plain": [
       "<Figure size 432x288 with 1 Axes>"
      ]
     },
     "metadata": {
      "needs_background": "light"
     },
     "output_type": "display_data"
    }
   ],
   "source": [
    "gdf_ellen_Dist8.plot();"
   ]
  },
  {
   "cell_type": "code",
   "execution_count": 21,
   "metadata": {},
   "outputs": [],
   "source": [
    "# Export all data (no querying) as a shapefile\n",
    "gdf.to_file(os.path.join(\"..\", \"Data\", \"H2S.shp\"))"
   ]
  },
  {
   "cell_type": "code",
   "execution_count": null,
   "metadata": {},
   "outputs": [],
   "source": []
  }
 ],
 "metadata": {
  "kernelspec": {
   "display_name": "Python (geo_env)",
   "language": "python",
   "name": "geo_env"
  },
  "language_info": {
   "codemirror_mode": {
    "name": "ipython",
    "version": 3
   },
   "file_extension": ".py",
   "mimetype": "text/x-python",
   "name": "python",
   "nbconvert_exporter": "python",
   "pygments_lexer": "ipython3",
   "version": "3.7.3"
  }
 },
 "nbformat": 4,
 "nbformat_minor": 2
}
